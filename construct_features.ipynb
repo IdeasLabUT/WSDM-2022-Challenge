{
 "cells": [
  {
   "cell_type": "markdown",
   "id": "d7c02448",
   "metadata": {},
   "source": [
    "# Feature Construction\n",
    "Run this notebook to create the edge features that will be used to train a logistic regression model to predict edges. The edge features will be saved as CSV files to be loaded in the `predict_edges.ipynb` notebook."
   ]
  },
  {
   "cell_type": "code",
   "execution_count": null,
   "id": "dbcd7f03",
   "metadata": {},
   "outputs": [],
   "source": [
    "import os\n",
    "import numpy as np\n",
    "\n",
    "# Whether to construct features for intermediate and final test sets\n",
    "intermediate = False\n",
    "final = True\n",
    "\n",
    "# Number of communities for the CHIP model\n",
    "n_communities_A = 3\n",
    "n_communities_B = 110\n",
    "\n",
    "# Data paths\n",
    "datasetA_path = '.'\n",
    "datasetB_path = '.'\n",
    "featureA_path = '.'\n",
    "featureB_path = '.'\n",
    "\n",
    "dataA_train_path = os.path.join(datasetA_path, 'edges_train_A.csv')\n",
    "dataA_node_features_path = os.path.join(datasetA_path, 'node_features.csv')\n",
    "dataA_edge_type_features_path = os.path.join(datasetA_path, 'edge_type_features.csv')\n",
    "dataA_init_path = os.path.join(datasetA_path, 'input_A_initial.csv')\n",
    "dataA_inter_path = os.path.join(datasetA_path, 'input_A_intermediate.csv')\n",
    "dataA_final_path = os.path.join(datasetA_path, 'input_A.csv')\n",
    "dataB_train_path = os.path.join(datasetB_path, 'edges_train_B.csv')\n",
    "dataB_init_path = os.path.join(datasetB_path, 'input_B_initial.csv')\n",
    "dataB_inter_path = os.path.join(datasetB_path, 'input_B_intermediate.csv')\n",
    "dataB_final_path = os.path.join(datasetB_path, 'input_B.csv')\n",
    "\n",
    "featureA_edge_init_path = os.path.join(featureA_path, 'featureA_edge_initial.csv')\n",
    "featureA_edge_inter_path = os.path.join(featureA_path, 'featureA_edge_intermediate.csv')\n",
    "featureA_edge_final_path = os.path.join(featureA_path, 'featureA_edge_final.csv')\n",
    "\n",
    "featureA_CHIP_init_path = os.path.join(featureA_path, f'featureA_CHIP_K_{n_communities_A}_initial.csv')\n",
    "featureA_CHIP_inter_path = os.path.join(featureA_path, f'featureA_CHIP_K_{n_communities_A}_intermediate.csv')\n",
    "featureA_CHIP_final_path = os.path.join(featureA_path, f'featureA_CHIP_K_{n_communities_A}_final.csv')\n",
    "featureB_CHIP_init_path = os.path.join(featureB_path, f'featureB_CHIP_K_{n_communities_B}_initial.csv')\n",
    "featureB_CHIP_inter_path = os.path.join(featureB_path, f'featureB_CHIP_K_{n_communities_B}_intermediate.csv')\n",
    "featureB_CHIP_final_path = os.path.join(featureB_path, f'featureB_CHIP_K_{n_communities_B}_final.csv')"
   ]
  },
  {
   "cell_type": "markdown",
   "id": "78b484d2",
   "metadata": {},
   "source": [
    "# Dataset A"
   ]
  },
  {
   "cell_type": "markdown",
   "id": "65914989",
   "metadata": {},
   "source": [
    "## Construct node and edge type similarity features (fast)\n",
    "These similarity-based features use only the provided node features, edge type features, and the frequency of training edges between a node pair. They took about 5 min to compute."
   ]
  },
  {
   "cell_type": "code",
   "execution_count": null,
   "id": "317022d3",
   "metadata": {},
   "outputs": [],
   "source": [
    "from edge_features import load_dataset, load_node_features, load_edge_type_features, compute_edge_frequencies, \\\n",
    "    create_node_similarities, create_edge_type_similarities, create_node_sim_features, create_edge_type_sim_features\n",
    "\n",
    "# Create node and edge type similarities from node and edge type features and training data\n",
    "node_features = load_node_features(dataA_node_features_path)\n",
    "print('Node Features Done')\n",
    "edge_features = load_edge_type_features(dataA_edge_type_features_path)\n",
    "print('Edge Features Done')\n",
    "edge_dist = compute_edge_frequencies(dataA_train_path)\n",
    "print('Edge Dist Done')\n",
    "\n",
    "node_similarities = create_node_similarities(node_features)\n",
    "print('Node similarities Done')\n",
    "edge_similarities = create_edge_type_similarities(edge_features)\n",
    "print('Edge type similarities Done')\n",
    "\n",
    "dataA_init = load_dataset(dataA_init_path)\n",
    "print('Load initial A Done')\n",
    "\n",
    "node_sim_feat_initA = create_node_sim_features(node_similarities, dataA_init)\n",
    "print('Node features initial Done')\n",
    "edge_type_sim_feat_initA = create_edge_type_sim_features(edge_similarities, edge_dist, dataA_init)\n",
    "print('Edge type features initial Done')\n",
    "np.savetxt(featureA_edge_init_path, np.stack((node_sim_feat_initA, edge_type_sim_feat_initA), axis=-1), delimiter=',')\n",
    "\n",
    "if intermediate:\n",
    "    dataA_inter = load_dataset(dataA_inter_path)\n",
    "    print('Load intermediate A done')\n",
    "    node_sim_feat_interA = create_node_sim_features(node_similarities, dataA_inter)\n",
    "    print('Node features final Done')\n",
    "    edge_type_sim_feat_interA = create_edge_type_sim_features(edge_similarities, edge_dist, dataA_inter)\n",
    "    print('Edge type features final Done')\n",
    "    np.savetxt(featureA_edge_inter_path, np.stack((node_sim_feat_interA, edge_type_sim_feat_interA), axis=-1), \n",
    "               delimiter=',')\n",
    "\n",
    "if final:\n",
    "    dataA_final = load_dataset(dataA_final_path)\n",
    "    print('Load final A done')\n",
    "    node_sim_feat_finalA = create_node_sim_features(node_similarities, dataA_final)\n",
    "    print('Node features final Done')\n",
    "    edge_type_sim_feat_finalA = create_edge_type_sim_features(edge_similarities, edge_dist, dataA_final)\n",
    "    print('Edge type features final Done')\n",
    "    np.savetxt(featureA_edge_final_path, np.stack((node_sim_feat_finalA, edge_type_sim_feat_finalA), axis=-1), \n",
    "               delimiter=',')"
   ]
  },
  {
   "cell_type": "markdown",
   "id": "cce6b7f3",
   "metadata": {},
   "source": [
    "## Construct CHIP feature (medium)\n",
    "This feature involves fitting the CHIP generative model to all training edges while ignoring the edge types. It took about 30 min to compute."
   ]
  },
  {
   "cell_type": "code",
   "execution_count": null,
   "id": "3bad2d5b",
   "metadata": {},
   "outputs": [],
   "source": [
    "from chip_features import create_dictionary_chip_A, fit_chip_A, create_feature_chip_A\n",
    "\n",
    "# # create and save dictionary of events for CHIP\n",
    "# dataA_train_tuple = create_dictionary_chip_A(dataA_train_path, savepath=os.path.join(featureA_path, 'datasetA_train_chip.p'))\n",
    "# print('Finished creating event dictionary')\n",
    "# fit CHIP model and save parameters\n",
    "fitA_params = fit_chip_A(dataA_train_tuple, K=n_communities_A, \n",
    "                         savepath=os.path.join(featureA_path, f'fitA_chip_K_{n_communities_A}.p'))\n",
    "print('Finished fitting CHIP')\n",
    "\n",
    "# compute CHIP features on initial dataset\n",
    "dataA_init_np = np.loadtxt(dataA_init_path, np.int, delimiter=',', usecols=(0, 1, 2, 3, 4))\n",
    "featureA_CHIP_init = create_feature_chip_A(dataA_train_tuple, dataA_init_np, fitA_params, savepath=featureA_CHIP_init_path)\n",
    "print('CHIP features initial done')\n",
    "\n",
    "if intermediate:\n",
    "    dataA_inter_np = np.loadtxt(dataA_inter_path, np.int, delimiter=',', usecols=(0, 1, 2, 3, 4))\n",
    "    featureA_CHIP_inter = create_feature_chip_A(dataA_train_tuple, dataA_inter_np, fitA_params,\n",
    "                                                savepath=featureA_CHIP_inter_path)\n",
    "    print('CHIP features intermediate done')\n",
    "\n",
    "if final:\n",
    "    dataA_final_np = np.loadtxt(dataA_final_path, np.int, delimiter=',', usecols=(0, 1, 2, 3, 4))\n",
    "    featureA_CHIP_final = create_feature_chip_A(dataA_train_tuple, dataA_final_np, fitA_params,\n",
    "                                                savepath=featureA_CHIP_final_path)\n",
    "    print('CHIP features final done')"
   ]
  },
  {
   "cell_type": "markdown",
   "id": "3e321100",
   "metadata": {},
   "source": [
    "# Dataset B"
   ]
  },
  {
   "cell_type": "markdown",
   "id": "5f716ae7",
   "metadata": {},
   "source": [
    "## Construct CHIP feature (slow)\n",
    "This feature involves fitting the CHIP generative model to all training edges while ignoring the edge types. It took about 2.5 hours to compute."
   ]
  },
  {
   "cell_type": "code",
   "execution_count": null,
   "id": "3313f1dd",
   "metadata": {},
   "outputs": [],
   "source": [
    "from chip_features import create_dictionary_chip_B, fit_chip_B, create_feature_chip_B\n",
    "\n",
    "# create and save dictionary of events for CHIP\n",
    "dataB_train_tuple = create_dictionary_chip_B(dataB_train_path, savepath=os.path.join(featureB_path, 'datasetB_train_chip.p'))\n",
    "print('Finished creating event dictionary')\n",
    "# fit CHIP model and save parameters\n",
    "fitB_params = fit_chip_B(dataB_train_tuple, K=n_communities_B, \n",
    "                         savepath=os.path.join(featureB_path, f'fitB_chip_K_{n_communities_B}.p'))\n",
    "print('Finished fitting CHIP')\n",
    "\n",
    "# compute CHIP features on initial dataset\n",
    "dataB_init = np.loadtxt(dataB_init_path, np.int, delimiter=',', usecols=(0, 1, 2, 3, 4))\n",
    "featureB_CHIP_init = create_feature_chip_B(dataB_train_tuple, dataB_init, fitB_params, savepath=featureB_CHIP_init_path)\n",
    "print('CHIP features initial done')\n",
    "\n",
    "if intermediate:\n",
    "    dataB_inter = np.loadtxt(dataB_inter_path, np.int, delimiter=',', usecols=(0, 1, 2, 3, 4))\n",
    "    featureB_CHIP_inter = create_feature_chip_B(dataB_train_tuple, dataB_inter, fitB_params,\n",
    "                                                savepath=featureB_CHIP_inter_path)\n",
    "    print('CHIP features intermediate done')\n",
    "\n",
    "if final:\n",
    "    dataB_final = np.loadtxt(dataB_final_path, np.int, delimiter=',', usecols=(0, 1, 2, 3, 4))\n",
    "    featureB_CHIP_final = create_feature_chip_B(dataB_train_tuple, dataB_final, fitB_params,\n",
    "                                                savepath=featureB_CHIP_final_path)\n",
    "    print('CHIP features final done')\n"
   ]
  }
 ],
 "metadata": {
  "kernelspec": {
   "display_name": "Python 3",
   "language": "python",
   "name": "python3"
  },
  "language_info": {
   "codemirror_mode": {
    "name": "ipython",
    "version": 3
   },
   "file_extension": ".py",
   "mimetype": "text/x-python",
   "name": "python",
   "nbconvert_exporter": "python",
   "pygments_lexer": "ipython3",
   "version": "3.8.8"
  }
 },
 "nbformat": 4,
 "nbformat_minor": 5
}
